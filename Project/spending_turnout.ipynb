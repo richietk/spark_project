{
 "cells": [
  {
   "cell_type": "markdown",
   "metadata": {},
   "source": [
    "In this script, we will analyze the connection between spending and voter turnout, as well as generally analyze turnout level on election results.\n",
    "\n",
    "Let's get/initialize a spark session and then read in the `data/merged_data.csv`"
   ]
  },
  {
   "cell_type": "code",
   "execution_count": 1,
   "metadata": {},
   "outputs": [],
   "source": [
    "from pyspark.sql import functions as F, SparkSession\n",
    "from pyspark.sql.window import Window\n",
    "from pyspark.sql.functions import col\n",
    "import os, re\n",
    "\n",
    "spark = SparkSession.builder.appName(\"MunicipalSpendingAndElectionAnalysis\").getOrCreate()\n",
    "\n",
    "# load a merged CSV file into spark\n",
    "merged_data = spark.read.csv(\"data/merged_data.csv\", header=True, inferSchema=True)"
   ]
  },
  {
   "cell_type": "markdown",
   "metadata": {},
   "source": [
    "First, we will analyze the correlation between education spending and voter turnout & party preference\n",
    "\n",
    "At first, let's dynamically get the election years."
   ]
  },
  {
   "cell_type": "code",
   "execution_count": 2,
   "metadata": {},
   "outputs": [],
   "source": [
    "years = []\n",
    "# iterate through XLSX files in folder\n",
    "for filename in os.listdir(\"data\"):\n",
    "    if filename.endswith(\".xlsx\"):\n",
    "        match = re.compile(r'\\d{4}').search(filename) # match years in filenames\n",
    "        if match:\n",
    "            years.append(int(match.group()))\n",
    "\n",
    "years.sort()"
   ]
  },
  {
   "cell_type": "code",
   "execution_count": 3,
   "metadata": {},
   "outputs": [
    {
     "ename": "NameError",
     "evalue": "name 'col' is not defined",
     "output_type": "error",
     "traceback": [
      "\u001b[0;31m---------------------------------------------------------------------------\u001b[0m",
      "\u001b[0;31mNameError\u001b[0m                                 Traceback (most recent call last)",
      "\u001b[0;32m<ipython-input-3-df4be3316088>\u001b[0m in \u001b[0;36m<module>\u001b[0;34m\u001b[0m\n\u001b[1;32m      1\u001b[0m \u001b[0;31m# ensure Wahlbeteiligung is a float\u001b[0m\u001b[0;34m\u001b[0m\u001b[0;34m\u001b[0m\u001b[0;34m\u001b[0m\u001b[0m\n\u001b[0;32m----> 2\u001b[0;31m \u001b[0mmerged_data\u001b[0m \u001b[0;34m=\u001b[0m \u001b[0mmerged_data\u001b[0m\u001b[0;34m.\u001b[0m\u001b[0mwithColumn\u001b[0m\u001b[0;34m(\u001b[0m\u001b[0;34m\"Wahlbeteiligung\"\u001b[0m\u001b[0;34m,\u001b[0m \u001b[0mcol\u001b[0m\u001b[0;34m(\u001b[0m\u001b[0;34m\"Wahlbeteiligung\"\u001b[0m\u001b[0;34m)\u001b[0m\u001b[0;34m.\u001b[0m\u001b[0mcast\u001b[0m\u001b[0;34m(\u001b[0m\u001b[0;34m\"float\"\u001b[0m\u001b[0;34m)\u001b[0m\u001b[0;34m)\u001b[0m\u001b[0;34m\u001b[0m\u001b[0;34m\u001b[0m\u001b[0m\n\u001b[0m\u001b[1;32m      3\u001b[0m \u001b[0;34m\u001b[0m\u001b[0m\n\u001b[1;32m      4\u001b[0m \u001b[0;31m# get total spending / municipality\u001b[0m\u001b[0;34m\u001b[0m\u001b[0;34m\u001b[0m\u001b[0;34m\u001b[0m\u001b[0m\n\u001b[1;32m      5\u001b[0m \u001b[0mtotal_spending\u001b[0m \u001b[0;34m=\u001b[0m \u001b[0mmerged_data\u001b[0m\u001b[0;34m.\u001b[0m\u001b[0mgroupBy\u001b[0m\u001b[0;34m(\u001b[0m\u001b[0;34m\"Municipality_Lowercase\"\u001b[0m\u001b[0;34m)\u001b[0m\u001b[0;31m \u001b[0m\u001b[0;31m\\\u001b[0m\u001b[0;34m\u001b[0m\u001b[0;34m\u001b[0m\u001b[0m\n",
      "\u001b[0;31mNameError\u001b[0m: name 'col' is not defined"
     ]
    }
   ],
   "source": [
    "# ensure Wahlbeteiligung is a float\n",
    "merged_data = merged_data.withColumn(\"Wahlbeteiligung\", col(\"Wahlbeteiligung\").cast(\"float\"))\n",
    "\n",
    "# get total spending / municipality\n",
    "total_spending = merged_data.groupBy(\"Municipality_Lowercase\") \\\n",
    "    .agg(F.sum(\"Spending_Summe\").alias(\"Total_Spending_Summe\"))\n",
    "\n",
    "# get avg voter turnout / municipality\n",
    "voter_turnout = merged_data.groupBy(\"Municipality_Lowercase\") \\\n",
    "    .agg(F.avg(\"Wahlbeteiligung\").alias(\"Avg_Turnout\"))\n",
    "\n",
    "# compute spending leading up to each election\n",
    "def get_last_election_year(year):\n",
    "    return max([y for y in years if y < year], default=None)\n",
    "get_last_election_year_udf = F.udf(get_last_election_year)\n",
    "\n",
    "merged_data = merged_data.withColumn(\"Last_Election_Year\", get_last_election_year_udf(col(\"Year\")))\n",
    "\n",
    "# filter spending after last election year\n",
    "recent_spending = merged_data.filter(col(\"Year\") > col(\"Last_Election_Year\")) \\\n",
    "    .groupBy(\"Municipality_Lowercase\") \\\n",
    "    .agg(F.sum(\"Spending_Summe\").alias(\"Recent_Spending_Summe\"))\n",
    "\n",
    "spending_vs_turnout = total_spending.join(voter_turnout, on=\"Municipality_Lowercase\")\n",
    "recent_spending_vs_turnout = recent_spending.join(voter_turnout, on=\"Municipality_Lowercase\")\n",
    "\n",
    "# compute correlations\n",
    "correlation_total = spending_vs_turnout.stat.corr(\"Total_Spending_Summe\", \"Avg_Turnout\")\n",
    "correlation_recent = recent_spending_vs_turnout.stat.corr(\"Recent_Spending_Summe\", \"Avg_Turnout\")\n",
    "\n",
    "print(f\"\\nCorrelation (Total Spending vs. Voter Turnout): {correlation_total:.3f}\")\n",
    "print(f\"Correlation (Spending Leading up to Election vs. Voter Turnout): {correlation_recent:.3f}\\n\")\n",
    "\n",
    "# get party wins count for each municipality\n",
    "party_wins = merged_data.groupBy(\"Municipality_Lowercase\", \"Winning_Party\").count()\n",
    "# party_wins.show(5) # for debug/demonstration\n",
    "\n",
    "# merge total spending with party wins\n",
    "spending_vs_party = total_spending.join(party_wins, on=\"Municipality_Lowercase\")\n",
    "\n",
    "# compute corr. between total spending vs party preference\n",
    "correlation_party_total = spending_vs_party.stat.corr(\"Total_Spending_Summe\", \"count\")\n",
    "\n",
    "# compute corr. btwn recent spending (leading up to election) vs party preference\n",
    "spending_vs_party_recent = recent_spending.join(party_wins, on=\"Municipality_Lowercase\")\n",
    "correlation_party_recent = spending_vs_party_recent.stat.corr(\"Recent_Spending_Summe\", \"count\")\n",
    "\n",
    "print(f\"\\nCorrelation (Total Spending vs. Party Wins): {correlation_party_total:.3f}\")\n",
    "print(f\"Correlation (Recent Spending Leading to Election vs. Party Wins): {correlation_party_recent:.3f}\\n\")"
   ]
  },
  {
   "cell_type": "markdown",
   "metadata": {},
   "source": [
    "Spending vs. voter turnout correlation is weak and negative.\n",
    "\n",
    "Possible explanations:\n",
    "- Voter turnout may be driven by other factors, not just spending.\n",
    "- Higher spending may be happening in areas with historically low turnout, i.e. it’s compensating for something else (like economic hardship).\n",
    "- Public spending could be taken for granted, so people don't vote based on it.\n",
    "\n",
    "Recent spending shows almost the same correlation as total spending, which suggests that spending patterns over time do not significantly shift voter participation.\n",
    "\n",
    "Spending vs. party wins correlation is weak and positive.\n",
    "\n",
    "Possible explanations:\n",
    "- Winning parties may influence spending, rather than the other way around.\n",
    "    - If a party keeps winning in the same municipalities, they may maintain/increase spending in their strongholds.\n",
    "    - This would make spending a result of party wins rather than a cause.\n",
    "- Voters may not directly connect public spending to election results.\n",
    "    - Spending benefits may be distributed across multiple parties, making it hard to attribute changes to one party’s success.\n",
    "    - If voters might see education spending as a government duty rather than a political strategy.\n",
    "\n",
    "Recent spending has almost the same correlation as total spending, which suggests that spending in the short term isn’t much more influential than long-term trends.\n",
    "\n",
    "Overall, spending has a weak direct linear correlation with voter turnout and party wins, meaning it’s not the main factor affecting elections.\n",
    "\n",
    "However, in the predictive models, we saw that the total spending feature is important, suggesting it interacts with other variables in nonlinear ways. Spending may still play a role in influencing elections, but it likely works indirectly."
   ]
  },
  {
   "cell_type": "markdown",
   "metadata": {},
   "source": [
    "Next, we will produce two visualizations to help us understand the data better. We will try to make this as scalable as possible.\n",
    "\n",
    "However, please note that while pyspark handles data processing, visualization requires conversion to Pandas (for rendering)."
   ]
  },
  {
   "cell_type": "code",
   "execution_count": null,
   "metadata": {},
   "outputs": [],
   "source": [
    "import matplotlib.pyplot as plt\n",
    "import seaborn as sns\n",
    "from pyspark.sql import functions as F\n",
    "from pyspark.sql.window import Window\n",
    "import numpy as np\n",
    "\n",
    "# spending vs voter turnout (per municipality, per year)\n",
    "\n",
    "# aggregate spending per municipality per year\n",
    "spending_per_municipality = merged_data.groupBy(\"Municipality_Lowercase\", \"Year\").agg(\n",
    "    F.sum(\"Spending_Summe\").alias(\"Spending_Summe\"),\n",
    "    F.avg(\"Wahlbeteiligung\").alias(\"Avg_Turnout\")\n",
    ").orderBy(\"Year\")\n",
    "\n",
    "# convert to pandas for visualization\n",
    "spending_pdf = spending_per_municipality.toPandas()\n",
    "\n",
    "plt.figure(figsize=(10, 6))\n",
    "ax = sns.scatterplot(data=spending_pdf, x=\"Spending_Summe\", y=\"Avg_Turnout\", hue=\"Year\", palette=\"viridis\", alpha=0.7)\n",
    "ax.set_xscale(\"log\")\n",
    "plt.xlabel(\"Spending Per Municipality (Log Scale)\")\n",
    "plt.ylabel(\"Average Voter Turnout (%)\")\n",
    "plt.title(\"Spending vs. Voter Turnout (Log Scale, Per Municipality & Year)\")\n",
    "plt.grid(True)\n",
    "plt.show()\n",
    "\n",
    "# boxplot of public spending levels by winning party (log scaled)\n",
    "\n",
    "# compute total spending & dominant party per municipality\n",
    "spending_vs_party = merged_data.groupBy(\"Municipality_Lowercase\", \"Winning_Party\").agg(\n",
    "    F.sum(\"Spending_Summe\").alias(\"Total_Spending\")\n",
    ").toPandas()\n",
    "\n",
    "# Plot spending vs. dominant party (boxplot)\n",
    "plt.figure(figsize=(10, 6))\n",
    "sns.boxplot(data=spending_vs_party, x=\"Winning_Party\", y=\"Total_Spending\", palette=\"coolwarm\")\n",
    "plt.yscale(\"log\")\n",
    "plt.xlabel(\"Winning Party\")\n",
    "plt.ylabel(\"Total Spending Per Municipality\")\n",
    "plt.title(\"Public Spending Levels by Winning Party\")\n",
    "plt.xticks(rotation=45)\n",
    "plt.grid(True)\n",
    "plt.show()"
   ]
  },
  {
   "cell_type": "markdown",
   "metadata": {},
   "source": [
    "**Observations:**\n",
    "    \n",
    "Graph 1 shows little trend between educations spending and voter turnout. It is visible that voter turnouts are roughly consistent in each election (as color-coded elections seem to form horizontal clusters), suggesting that voter turnout might be influenced by other factors, such as public morale/enthusiasm to vote.\n",
    "\n",
    "Graph 2 shows us that the most variation in education spending is in municipalities the SPÖ won, and the least in those the FPÖ won. Additionally, the cities with the highest public spendings seem to be won by the SPÖ.\n",
    "- SPÖ (Social Democratic Party) generally supports strong public spending, especially in education and welfare. This explains why SPÖ-won municipalities show both higher and more variable spending.\n",
    "- FPÖ (Freedom Party) appeals more to rural, conservative, and anti-establishment voters, often advocating for fiscal restraint and skepticism toward public spending. This likely results in lower and more consistent spending in FPÖ-won municipalities.\n",
    "- ÖVP (People’s Party) sits between these two, leading to a mid-range spending pattern.\n",
    "\n",
    "- **TODO some source for these claims about parties**"
   ]
  },
  {
   "cell_type": "code",
   "execution_count": null,
   "metadata": {},
   "outputs": [],
   "source": []
  }
 ],
 "metadata": {
  "kernelspec": {
   "display_name": "Python 3",
   "language": "python",
   "name": "python3"
  },
  "language_info": {
   "codemirror_mode": {
    "name": "ipython",
    "version": 3
   },
   "file_extension": ".py",
   "mimetype": "text/x-python",
   "name": "python",
   "nbconvert_exporter": "python",
   "pygments_lexer": "ipython3",
   "version": "3.8.6"
  }
 },
 "nbformat": 4,
 "nbformat_minor": 4
}
